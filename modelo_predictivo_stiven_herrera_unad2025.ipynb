{
 "cells": [
  {
   "cell_type": "markdown",
   "id": "430c3cac",
   "metadata": {},
   "source": [
    "# 🧠 Análisis de Modelos Predictivos con Vehículos\n",
    "### Stiven Herrera – UNAD 2025 – Análisis de Datos"
   ]
  },
  {
   "cell_type": "code",
   "execution_count": null,
   "id": "ebcdb689",
   "metadata": {},
   "outputs": [],
   "source": [
    "import pandas as pd\n",
    "import numpy as np\n",
    "import seaborn as sns\n",
    "import matplotlib.pyplot as plt\n",
    "\n",
    "from sklearn.model_selection import train_test_split\n",
    "from sklearn.linear_model import LinearRegression, LogisticRegression\n",
    "from sklearn.tree import DecisionTreeRegressor, DecisionTreeClassifier\n",
    "from sklearn.preprocessing import LabelEncoder\n",
    "from sklearn.metrics import mean_squared_error, accuracy_score, confusion_matrix, classification_report\n",
    "\n",
    "import warnings\n",
    "warnings.filterwarnings('ignore')\n"
   ]
  },
  {
   "cell_type": "code",
   "execution_count": null,
   "id": "3f2b994c",
   "metadata": {},
   "outputs": [],
   "source": [
    "df = pd.read_csv(\"car data.csv\")\n",
    "df.head()\n"
   ]
  },
  {
   "cell_type": "markdown",
   "id": "f807a2d4",
   "metadata": {},
   "source": [
    "## 📊 Análisis Exploratorio"
   ]
  },
  {
   "cell_type": "code",
   "execution_count": null,
   "id": "d11e9a26",
   "metadata": {},
   "outputs": [],
   "source": [
    "print(df.info())\n",
    "print(df.describe())\n",
    "print(df.isnull().sum())\n",
    "sns.heatmap(df.corr(), annot=True)\n",
    "plt.show()\n"
   ]
  },
  {
   "cell_type": "markdown",
   "id": "069ab7b1",
   "metadata": {},
   "source": [
    "## 🧹 Preprocesamiento de Datos"
   ]
  },
  {
   "cell_type": "code",
   "execution_count": null,
   "id": "cddf5c37",
   "metadata": {},
   "outputs": [],
   "source": [
    "# Codificar variables categóricas\n",
    "le = LabelEncoder()\n",
    "df['Fuel_Type'] = le.fit_transform(df['Fuel_Type'])\n",
    "df['Seller_Type'] = le.fit_transform(df['Seller_Type'])\n",
    "df['Transmission'] = le.fit_transform(df['Transmission'])\n",
    "\n",
    "# Separar variables\n",
    "X = df.drop(['Selling_Price', 'Car_Name'], axis=1)\n",
    "y = df['Selling_Price']\n"
   ]
  },
  {
   "cell_type": "markdown",
   "id": "8a7439e6",
   "metadata": {},
   "source": [
    "## 📈 Modelo de Regresión Lineal"
   ]
  },
  {
   "cell_type": "code",
   "execution_count": null,
   "id": "7cb48df2",
   "metadata": {},
   "outputs": [],
   "source": [
    "X_train, X_test, y_train, y_test = train_test_split(X, y, test_size=0.2, random_state=42)\n",
    "\n",
    "lr_model = LinearRegression()\n",
    "lr_model.fit(X_train, y_train)\n",
    "y_pred = lr_model.predict(X_test)\n",
    "\n",
    "print(\"MSE:\", mean_squared_error(y_test, y_pred))\n",
    "plt.scatter(y_test, y_pred)\n",
    "plt.xlabel(\"Precio real\")\n",
    "plt.ylabel(\"Precio predicho\")\n",
    "plt.title(\"Regresión Lineal - Predicción de precios\")\n",
    "plt.show()\n"
   ]
  },
  {
   "cell_type": "markdown",
   "id": "9e0cf601",
   "metadata": {},
   "source": [
    "## 📊 Modelo de Regresión Logística"
   ]
  },
  {
   "cell_type": "code",
   "execution_count": null,
   "id": "1689864e",
   "metadata": {},
   "outputs": [],
   "source": [
    "# Clasificación binaria: Precio mayor a 5 = 1, si no = 0\n",
    "y_class = (df['Selling_Price'] > 5).astype(int)\n",
    "X_train2, X_test2, y_train2, y_test2 = train_test_split(X, y_class, test_size=0.2, random_state=42)\n",
    "\n",
    "log_model = LogisticRegression()\n",
    "log_model.fit(X_train2, y_train2)\n",
    "y_pred2 = log_model.predict(X_test2)\n",
    "\n",
    "print(classification_report(y_test2, y_pred2))\n",
    "sns.heatmap(confusion_matrix(y_test2, y_pred2), annot=True)\n",
    "plt.title(\"Matriz de Confusión - Regresión Logística\")\n",
    "plt.show()\n"
   ]
  },
  {
   "cell_type": "markdown",
   "id": "195c61c2",
   "metadata": {},
   "source": [
    "## 🌳 Modelo Árbol de Decisión (Regresión)"
   ]
  },
  {
   "cell_type": "code",
   "execution_count": null,
   "id": "f814b8c5",
   "metadata": {},
   "outputs": [],
   "source": [
    "tree_model = DecisionTreeRegressor()\n",
    "tree_model.fit(X_train, y_train)\n",
    "y_pred_tree = tree_model.predict(X_test)\n",
    "\n",
    "print(\"MSE Árbol:\", mean_squared_error(y_test, y_pred_tree))\n",
    "plt.scatter(y_test, y_pred_tree)\n",
    "plt.xlabel(\"Precio real\")\n",
    "plt.ylabel(\"Precio predicho\")\n",
    "plt.title(\"Árbol de Decisión - Predicción de precios\")\n",
    "plt.show()\n"
   ]
  },
  {
   "cell_type": "markdown",
   "id": "a879847a",
   "metadata": {},
   "source": [
    "## ✅ Conclusión\n",
    "- Se construyeron modelos de Regresión Lineal, Logística y Árbol de Decisión.\n",
    "- El modelo de árbol de decisión puede adaptarse mejor a relaciones no lineales.\n",
    "- Este análisis es útil para predecir precios de vehículos en función de características técnicas y de mercado."
   ]
  },
  {
   "cell_type": "markdown",
   "id": "5c8f56ac",
   "metadata": {},
   "source": [
    "---\n",
    "📅 Proyecto realizado por **Stiven Herrera**\n",
    "📚 Universidad Nacional Abierta y a Distancia – UNAD\n",
    "🗓️ 2025-04-05"
   ]
  }
 ],
 "metadata": {},
 "nbformat": 4,
 "nbformat_minor": 5
}
